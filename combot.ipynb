{
 "cells": [
  {
   "cell_type": "code",
   "execution_count": 47,
   "metadata": {},
   "outputs": [],
   "source": [
    "import json\n",
    "from signal_meta_data import Signal, TextAnnotation, ImageAnnotation, friend\n",
    "from nltk.tokenize import TreebankWordTokenizer"
   ]
  },
  {
   "cell_type": "markdown",
   "metadata": {},
   "source": [
    "Define a scenario with multimodal input"
   ]
  },
  {
   "cell_type": "code",
   "execution_count": 48,
   "metadata": {},
   "outputs": [],
   "source": [
    "sui = \"scene1\"\n",
    "modality = \"jpg\"\n",
    "time_begin = 1603139705\n",
    "time_end = 1603139705\n",
    "signal = Signal(sui, modality, time_begin, time_end)\n",
    "with open(\"data/suifile.json\", \"w\") as write_file:\n",
    "    json.dump(signal.tojson(), write_file)"
   ]
  },
  {
   "cell_type": "markdown",
   "metadata": {},
   "source": [
    "Define the speaker and his/her emotion"
   ]
  },
  {
   "cell_type": "code",
   "execution_count": 49,
   "metadata": {},
   "outputs": [
    {
     "output_type": "stream",
     "name": "stdout",
     "text": [
      "sui scene1\nsui file data/piek.jpg\ntime start 1603139705\ntime end 1603139705\nbox [1, 18, 21, 18]\nspeaker <signal_meta_data.friend object at 0x7f59b0e38400>\nemotion joy\n"
     ]
    }
   ],
   "source": [
    "suifile = \"data/piek.jpg\"\n",
    "boxsegment = [1,18,21,18]\n",
    "speaker = friend('piek', 59, 'male')\n",
    "emotion = 'joy'\n",
    "image_anno = ImageAnnotation(sui, \n",
    "                             suifile, \n",
    "                             time_begin, \n",
    "                             time_end, \n",
    "                             boxsegment, \n",
    "                             speaker, \n",
    "                             emotion)\n",
    "image_anno.print()\n",
    "\n",
    "with open(\"data/imageanno1.json\", \"w\") as write_file:\n",
    "    json.dump(image_anno.tojson(), write_file)"
   ]
  },
  {
   "cell_type": "markdown",
   "metadata": {},
   "source": [
    "Define the annotation that goes with a family picture"
   ]
  },
  {
   "cell_type": "code",
   "execution_count": 50,
   "metadata": {},
   "outputs": [
    {
     "output_type": "stream",
     "name": "stdout",
     "text": [
      "sui scene1\nsui file data/pexels-victoria-borodinova-1648358.jpg\ntime start 1603139705\ntime end 1603139705\nbox [4, 8, 11, 8]\nspeaker <signal_meta_data.friend object at 0x7f59b0e388d0>\nemotion joy\n"
     ]
    }
   ],
   "source": [
    "suifile = \"data/pexels-victoria-borodinova-1648358.jpg\"\n",
    "boxsegment = [4,8,11,8]\n",
    "speaker = friend('piek', 59, 'male')\n",
    "emotion = 'joy'\n",
    "image_anno = ImageAnnotation(sui, \n",
    "                             suifile, \n",
    "                             time_begin, \n",
    "                             time_end, \n",
    "                             boxsegment, \n",
    "                             speaker, \n",
    "                             emotion)\n",
    "image_anno.print()\n",
    "\n",
    "with open(\"data/imageanno2.json\", \"w\") as write_file:\n",
    "    json.dump(image_anno.tojson(), write_file)"
   ]
  },
  {
   "cell_type": "markdown",
   "metadata": {},
   "source": [
    "Annotation of the communication about the picture(s)"
   ]
  },
  {
   "cell_type": "code",
   "execution_count": 51,
   "metadata": {},
   "outputs": [
    {
     "output_type": "stream",
     "name": "stdout",
     "text": [
      "sui scene1\nsui_file data/pexels-victoria-borodinova-1648358.jpg\ntime_start 1603139705\ntime_end 1603139705\nspeaker {'url': 'http://leolani.cltl.nl/people/piek', 'name': rdflib.term.Literal('piek'), 'age': rdflib.term.Literal('59', datatype=rdflib.term.URIRef('http://www.w3.org/2001/XMLSchema#integer')), 'gender': rdflib.term.Literal('male')}\nemotion joy\nutterance That is my brother Jim\ntokens [((0, 4), 0), ((5, 7), 1), ((8, 10), 2), ((11, 18), 3), ((19, 22), 4)]\nmention (19, 'brother')\nreferent {'url': 'http://leolani.cltl.nl/people/John', 'name': rdflib.term.Literal('John'), 'age': rdflib.term.Literal('32', datatype=rdflib.term.URIRef('http://www.w3.org/2001/XMLSchema#integer')), 'gender': rdflib.term.Literal('male')}\n"
     ]
    }
   ],
   "source": [
    "utterance = \"That is my brother Jim\"\n",
    "tokens = TreebankWordTokenizer().span_tokenize(utterance)\n",
    "token_tuples = []\n",
    "for token, index in enumerate(tokens):\n",
    "    tokentuple = (index, token)\n",
    "    token_tuples.append(tokentuple)\n",
    "mention = (tokentuple[0][0], \"brother\")\n",
    "referent = friend(\"John\", 32, \"male\")\n",
    "    \n",
    "text_anno =  TextAnnotation(sui, \n",
    "                            suifile, \n",
    "                            time_begin, \n",
    "                            time_end,\n",
    "                            utterance,\n",
    "                            token_tuples, \n",
    "                            speaker.tojson(), \n",
    "                            emotion, \n",
    "                            mention, \n",
    "                            referent.tojson())\n",
    "text_anno.print()\n",
    "          \n",
    "with open(\"data/textanno.json\", \"w\") as write_file:\n",
    "    json.dump(text_anno.tojson(), write_file)"
   ]
  }
 ],
 "metadata": {
  "kernelspec": {
   "display_name": "Python 3",
   "language": "python",
   "name": "python3"
  },
  "language_info": {
   "codemirror_mode": {
    "name": "ipython",
    "version": 3
   },
   "file_extension": ".py",
   "mimetype": "text/x-python",
   "name": "python",
   "nbconvert_exporter": "python",
   "pygments_lexer": "ipython3",
   "version": "3.6.12-final"
  }
 },
 "nbformat": 4,
 "nbformat_minor": 4
}